{
 "cells": [
  {
   "cell_type": "code",
   "execution_count": 19,
   "id": "21bf6e9c",
   "metadata": {},
   "outputs": [],
   "source": [
    "# 필요한 모듈 및 라이브러리 불러오기\n",
    "from selenium.webdriver import Chrome\n",
    "import time\n",
    "import sqlite3\n",
    "from pandas.io import sql\n",
    "import os\n",
    "import pandas as pd\n",
    "import selenium\n",
    "from selenium import webdriver\n",
    "from selenium.webdriver.common.keys import Keys\n",
    "import pandas as pd\n",
    "import numpy as np\n",
    "import random\n",
    "import sys\n",
    "import re\n",
    "import requests\n",
    "from bs4 import BeautifulSoup\n",
    "import datetime\n",
    "import os\n",
    "import sqlite3\n",
    "import csv\n",
    "import warnings\n",
    "warnings.filterwarnings(action='ignore')"
   ]
  },
  {
   "cell_type": "code",
   "execution_count": 20,
   "id": "641c5eb7",
   "metadata": {},
   "outputs": [],
   "source": [
    "# 필요한 데이터 생성\n",
    "customer_allergy= pd.read_csv('/Users/JGH/Python/Section Project 4/customer_allergy.csv')\n",
    "drink_allergy= pd.read_csv('/Users/JGH/Python/Section Project 4/drink_allergy.csv')\n",
    "allergy_list = list(set(customer_allergy.allergy.unique().tolist() + drink_allergy.allergy.unique().tolist()))"
   ]
  },
  {
   "cell_type": "code",
   "execution_count": 21,
   "id": "ba363266",
   "metadata": {},
   "outputs": [],
   "source": [
    "DB_FILENAME = 'project4.db'\n",
    "DB_FILEPATH = os.path.join(os.getcwd(), DB_FILENAME)\n",
    "\n",
    "conn = sqlite3.connect(DB_FILENAME)\n",
    "cur = conn.cursor()"
   ]
  },
  {
   "cell_type": "markdown",
   "id": "29b692f5",
   "metadata": {},
   "source": [
    "# 테이블 생성"
   ]
  },
  {
   "cell_type": "code",
   "execution_count": 22,
   "id": "35f2675e",
   "metadata": {},
   "outputs": [
    {
     "data": {
      "text/plain": [
       "<sqlite3.Cursor at 0x7fb3798bef80>"
      ]
     },
     "execution_count": 22,
     "metadata": {},
     "output_type": "execute_result"
    }
   ],
   "source": [
    "# 고객 테이블 \n",
    "cur.execute(\"\"\"\n",
    "CREATE TABLE CUSTOMER (\n",
    "\tid \t\tInt \t\t\tNOT NULL PRIMARY KEY,\n",
    "\tsex\t\tVarchar(45)\t\tNOT NULL,\n",
    "\tage\t\tVarchar(45)\t\tNOT NULL\n",
    "    );\n",
    "\"\"\")\n",
    "\n",
    "# 음료 테이블\n",
    "cur.execute(\"\"\"\n",
    "CREATE TABLE DRINK (\n",
    "\tid \t\t        Int\t\t\t    NOT NULL PRIMARY KEY,\n",
    "\tname\t\t    Varchar(45)\t\tNOT NULL,\n",
    "\tcategory\t\tVarchar(45)\t\tNOT NULL,\n",
    "    price           Int             NOT NULL,\n",
    "    calories        Int             NOT NULL,\n",
    "    sugars          Int             NOT NULL,\n",
    "    protein         Int             NOT NULL,\n",
    "    sodium          Int             NOT NULL,\n",
    "    saturated_fat   Int             NOT NULL,\n",
    "    caffeine        Int             NOT NULL,\n",
    "    status          Varchar(45)     NOT NULL\n",
    "    );\n",
    "\"\"\")\n",
    "\n",
    "# 알레르기 테이블\n",
    "cur.execute(\"\"\"\n",
    "CREATE TABLE ALLERGY (\n",
    "\tallergy\t\t    Varchar(45)\t\tNOT NULL PRIMARY KEY);\n",
    "\"\"\")\n",
    "\n",
    "# 고객-알레르기 테이블\n",
    "cur.execute(\"\"\"\n",
    "CREATE TABLE C_Allergy (\n",
    "    id      Int             NOT NULL,\n",
    "    allergy Varchar(45)     NOT NULL,\n",
    "    PRIMARY KEY (id, allergy),\n",
    "    FOREIGN KEY (id)\n",
    "        REFERENCES CUSTOMER(id)\n",
    "        ON UPDATE CASCADE\n",
    "        ON DELETE CASCADE,\n",
    "    FOREIGN KEY (allergy)\n",
    "        REFERENCES ALLERGY(allergy)\n",
    "        ON UPDATE CASCADE\n",
    "        ON DELETE CASCADE        \n",
    ");\n",
    "\"\"\")\n",
    "\n",
    "# 음료-알레르기 테이블\n",
    "cur.execute(\"\"\"\n",
    "CREATE TABLE D_Allergy (\n",
    "    id      Int             NOT NULL,\n",
    "    name    Varchar(45)     NOT NULL,\n",
    "    allergy Varchar(45)     NOT NULL,\n",
    "    PRIMARY KEY (id, allergy),\n",
    "    FOREIGN KEY (id)\n",
    "        REFERENCES DRINK(id)\n",
    "        ON UPDATE CASCADE\n",
    "        ON DELETE CASCADE,\n",
    "    FOREIGN KEY (name)\n",
    "        REFERENCES DRINK(name)\n",
    "        ON UPDATE CASCADE\n",
    "        ON DELETE CASCADE,\n",
    "    FOREIGN KEY (allergy)\n",
    "        REFERENCES ALLERGY(allergy)\n",
    "        ON UPDATE CASCADE\n",
    "        ON DELETE CASCADE        \n",
    ");\n",
    "\"\"\")\n",
    "\n",
    "# 주문 테이블\n",
    "cur.execute(\"\"\"\n",
    "CREATE TABLE ORDER_DB(\n",
    "\tid \t\t        Int\t\t       NOT NULL PRIMARY KEY,\n",
    "\tcustomer_id\t\tInt\t\t       NOT NULL,\n",
    "\tdrink_id\t\tInt\t\t       NOT NULL,\n",
    "    drink_name      Varchar(45)    NOT NULL,\n",
    "    date            TEXT           NOT NULL,\n",
    "    FOREIGN KEY (customer_id)\n",
    "        REFERENCES CUSTOMER(id)\n",
    "        ON UPDATE CASCADE\n",
    "        ON DELETE CASCADE,\n",
    "    FOREIGN KEY (drink_id)\n",
    "        REFERENCES DRINK(id)\n",
    "        ON UPDATE CASCADE\n",
    "        ON DELETE CASCADE,\n",
    "    FOREIGN KEY (drink_name)\n",
    "        REFERENCES DRINK(name)\n",
    "        ON UPDATE CASCADE\n",
    "        ON DELETE CASCADE         \n",
    "    );\n",
    "\"\"\")"
   ]
  },
  {
   "cell_type": "markdown",
   "id": "b9964bc8",
   "metadata": {},
   "source": [
    "# 데이터 입력"
   ]
  },
  {
   "cell_type": "code",
   "execution_count": 23,
   "id": "dcc3e2a3",
   "metadata": {},
   "outputs": [],
   "source": [
    "# 고객 테이블\n",
    "with open('/Users/JGH/Python/Section Project 4/customer_db.csv', 'r') as file:\n",
    "    csv_data = csv.reader(file)\n",
    "    next(csv_data)  # 헤더 행 스킵\n",
    "    cur.executemany(\"INSERT INTO CUSTOMER VALUES (?, ?, ?)\", csv_data)\n",
    "\n",
    "# 음료 테이블\n",
    "with open('/Users/JGH/Python/Section Project 4/drink_db.csv', 'r') as file:\n",
    "    csv_data = csv.reader(file)\n",
    "    next(csv_data)  # 헤더 행 스킵\n",
    "    cur.executemany(\"INSERT INTO DRINK VALUES (?, ?, ?, ?, ?, ?, ?, ?, ?, ?, ?)\", csv_data)\n",
    "\n",
    "# 알레르기 테이블\n",
    "for allergy in allergy_list:\n",
    "    cur.execute(\"INSERT INTO ALLERGY (allergy) VALUES (?)\", (allergy,))\n",
    "\n",
    "# 고객-알레르기 테이블\n",
    "with open('/Users/JGH/Python/Section Project 4/customer_allergy.csv', 'r') as file:\n",
    "    csv_data = csv.reader(file)\n",
    "    next(csv_data)  # 헤더 행 스킵\n",
    "    cur.executemany(\"INSERT INTO C_ALLERGY VALUES (?, ?)\", csv_data)\n",
    "    \n",
    "# 음료-알레르기 테이블\n",
    "with open('/Users/JGH/Python/Section Project 4/drink_allergy.csv', 'r') as file:\n",
    "    csv_data = csv.reader(file)\n",
    "    next(csv_data)  # 헤더 행 스킵\n",
    "    cur.executemany(\"INSERT INTO D_ALLERGY VALUES (?, ?, ?)\", csv_data)\n",
    "    \n",
    "# 주문 테이블\n",
    "with open('/Users/JGH/Python/Section Project 4/order_db.csv', 'r') as file:\n",
    "    csv_data = csv.reader(file)\n",
    "    next(csv_data)  # 헤더 행 스킵\n",
    "    cur.executemany(\"INSERT INTO ORDER_DB VALUES (?, ?, ?, ?, ?)\", csv_data)"
   ]
  },
  {
   "cell_type": "code",
   "execution_count": 24,
   "id": "ac798291",
   "metadata": {},
   "outputs": [],
   "source": [
    "conn.commit()\n",
    "conn.close()"
   ]
  }
 ],
 "metadata": {
  "kernelspec": {
   "display_name": "Python 3 (ipykernel)",
   "language": "python",
   "name": "python3"
  },
  "language_info": {
   "codemirror_mode": {
    "name": "ipython",
    "version": 3
   },
   "file_extension": ".py",
   "mimetype": "text/x-python",
   "name": "python",
   "nbconvert_exporter": "python",
   "pygments_lexer": "ipython3",
   "version": "3.7.7"
  }
 },
 "nbformat": 4,
 "nbformat_minor": 5
}
